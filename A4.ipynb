{
 "cells": [
  {
   "cell_type": "markdown",
   "id": "62279c27-bf8f-485f-9c85-7206d70e23ce",
   "metadata": {},
   "source": [
    "**Introduction**\n",
    "\n",
    "In light of Roe v Wade being overturned, we see more political discourse on the legality and morality of abortion. The general sentiment surrounding pro-life support is to protect unborn babies' life. However, many critics of the pro-life movement highlight the irony of protecting a fetus's life up until birth and then providing minimal support and protection after birth.  According to the organization for Economic Cooperation and Development, the US is ranked last in family-friendly policies. [2] Therefore, my project will focus on the correlation between states that have the toughest laws on abortion and states family-friendly policies, costs, and care. I hope to learn where primarily pro-life states stand when it comes to the protection of the baby beyond birth. My initial proposal to my classmates was about abortion laws and sex education practices in each state. My classmates suggested that it would be interesting to see how abortions correlate with other state rights, which inspired me to look at family-friendly policies. \n",
    "\n",
    "Research question: What is the relationship between states that have the strictest abortion laws and their ability to provide care to families post-partum?\n",
    "\n",
    "**Background**\n",
    "\n",
    "As discussions regarding abortion rights rise due to the recent draft opinion on Roe v. Wade, another issue has been highlighted: the lack of access and support to women and children after birth. The United States falls behind developed countries in terms of family-friendly policies. According to a New York Times report, the US spends 0.2% of its GDP on childcare. According to an article from CBS news, out of all the states planning on banning abortion once Roe v, Wade becomes overturned, not one of them offers paid family leave. Eight of those states have opted out of expanding Medicare, which covers pregnancy through post-partum. Mississippi, one of the strictest states on abortion, has the highest rate of infant mortality, child poverty, and low birth weight. (Threat to Roe draws attention to scant support for women having children, 2022). A Wallethub study anyalzed the best and worst places to have children  across “32 key measures, including cost, health care accessibility, baby- and family-friendliness, pediatricians per capita and more.” Alabama ranked last due to high costs of care, high infant mortality rate, high rates of low birth weights, and pre-term births. Alabama is one of the 22 states that plan to ban abortion once Roe v. Wade is overturned. The remaining states that ranked under the top ten worst states to have a baby were all states either planning to ban abortion or place significant restrictions. (Bloom, 2022)\n",
    "\n",
    "\n",
    "**Methodology**\n",
    "\n",
    "This report will be assessing the 22 states that plan to ban or significantly restrict abortion on three different criteria that represent the state's ability to provide care to families post-partum. The 22 states were chosen based on whether they had a trigger ban, pre-roe ban, six-week ban, 8-week ban, and near-total ban. The criteria were chosen based on the background research done on post-partum policies, costs, and care.  \n",
    "\n",
    "*American Rescue Plan Act*\n",
    "\n",
    "Provides states the option to extend Medicare to cover 12 months of post-partum care rather than 60 days. For analysis, I will assess what percentage of states have implemented the 12-month extension, are planning to implement the 12-month extension, are approved for limited coverage, are pending legislation to seek federal approval, and have no action taken toward implementation. For data visualization, I will utilize a bar graph to show where the majority of states lie on Medicaid extension.\n",
    "\n",
    "Link to dataset: https://www.kff.org/medicaid/issue-brief/medicaid-postpartum-coverage-extension-tracker/\n",
    "\n",
    "*Child Poverty*\n",
    "\n",
    "Child poverty refers to people under the age of 18 living under the federal poverty line. For analysis, I will be calculating the average percentage of children living in poverty in 2019 for the 28 states planning on banning abortion and compare that to the national average for children living in poverty. For data visualization, I will be utilizing a strip chart to visualize the distribution of child poverty rates and compare the abortion restrictive state averages with the national average. \n",
    "\n",
    "Link to dataset: https://datacenter.kidscount.org/data/tables/43-children-in-poverty-100-percent-poverty#detailed/2/2-53/false/1729,37,871,870,573,869,36,868,867,133/any/321,322\n",
    "\n",
    "*Infant mortality*\n",
    "\n",
    "Infant mortality refers to The number of infant deaths per 1,000 live births. The infant mortality rates are divided into 5 quadrants:\n",
    "\n",
    "Quadrant 1: 0 - < 1.65\n",
    "Quadrant 2: 1.65 - < 3.31\n",
    "Quadrant 3: 3.31 - < 4.96\n",
    "Quadrant 4: 4.96 - < 6.62\n",
    "Quadrant 5: 6.62 - 8.27\n",
    "\n",
    "For analysis, I will break down what percentage of states are in each quadrant. For data visualization, I will utilize a histogram to convey the frequency of states in each quadrant to see what quadrant the majority of the states lie in. \n",
    "\n",
    "Link to dataset: \n",
    "https://www.cdc.gov/nchs/pressroom/sosmap/infant_mortality_rates/infant_mortality.htm\n",
    "\n",
    "\n",
    "References\n",
    "2022. [online] Available at: <https://www.cdc.gov/nchs/pressroom/sosmap/infant_mortality_rates/infant_mortality.htm> [Accessed 16 May 2022].\n",
    "Bloom, L., 2022. Study Reveals: The Best States To Have A Baby In America (And The Worst). [online] Forbes. Available at: <https://www.forbes.com/sites/laurabegleybloom/2020/08/27/best-worst-states-have-baby/?sh=3aedf6f1979b> [Accessed 16 May 2022].\n",
    "Cbsnews.com. 2022. Threat to Roe draws attention to scant support for women having children. [online] Available at: <https://www.cbsnews.com/news/roe-v-wade-abortion-support-for-pregnant-women/> [Accessed 16 May 2022].\n",
    "Datacenter.kidscount.org. 2022. Child poverty statistics in the U.S.. [online] Available at: <https://datacenter.kidscount.org/data/tables/43-children-in-poverty-100-percent-poverty#detailed/2/2-53/false/1729,37,871,870,573,869,36,868,867,133/any/321,322> [Accessed 16 May 2022].\n",
    "KFF. 2022. Medicaid Postpartum Coverage Extension Tracker. [online] Available at: <https://www.kff.org/medicaid/issue-brief/medicaid-postpartum-coverage-extension-tracker/> [Accessed 16 May 2022]."
   ]
  },
  {
   "cell_type": "code",
   "execution_count": null,
   "id": "7e40d78b-cc95-4784-87ba-6a672a238c06",
   "metadata": {},
   "outputs": [],
   "source": []
  },
  {
   "cell_type": "code",
   "execution_count": null,
   "id": "04e5cffa-c2b4-4ba3-b5e9-9425bb1f5016",
   "metadata": {},
   "outputs": [],
   "source": []
  },
  {
   "cell_type": "code",
   "execution_count": null,
   "id": "44260fde-0dac-4e37-b2ca-977e8050082c",
   "metadata": {},
   "outputs": [],
   "source": []
  }
 ],
 "metadata": {
  "kernelspec": {
   "display_name": "Python 3 (ipykernel)",
   "language": "python",
   "name": "python3"
  },
  "language_info": {
   "codemirror_mode": {
    "name": "ipython",
    "version": 3
   },
   "file_extension": ".py",
   "mimetype": "text/x-python",
   "name": "python",
   "nbconvert_exporter": "python",
   "pygments_lexer": "ipython3",
   "version": "3.9.7"
  }
 },
 "nbformat": 4,
 "nbformat_minor": 5
}
