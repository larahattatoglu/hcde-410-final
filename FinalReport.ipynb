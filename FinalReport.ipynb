{
 "cells": [
  {
   "cell_type": "markdown",
   "id": "62279c27-bf8f-485f-9c85-7206d70e23ce",
   "metadata": {},
   "source": [
    "**Introduction**\n",
    "\n",
    "In light of Roe v Wade being overturned, we see more political discourse on the legality and morality of abortion. The general sentiment surrounding pro-life support is to protect unborn babies life. However, many critics of the pro-life movement highlight the irony of protecting a fetus's life up until birth and then providing minimal support and protection after birth.  Therefore, my project will focus on the correlation between states that have the toughest laws on abortion and how well they provide support and protection to children beyond birth. I will be using child poverty statistics as a measure to determine the adequacy of care provided by the state. I  hope to learn where primarily pro-life states stand when it comes to the protection of the baby beyond birth. \n"
   ]
  },
  {
   "cell_type": "markdown",
   "id": "18c4278e-fc75-4cf5-b435-ca66a15fab02",
   "metadata": {},
   "source": [
    "**Background**\n",
    "\n",
    "As discussions regarding abortion rights rise due to the recent draft opinion on Roe v. Wade, another issue has been highlighted: the lack of access and support to women and children after birth. The United States falls behind developed countries in terms of family-friendly policies. According to a New York Times report, the US spends 0.2% of its GDP on childcare. According to an article from CBS news, out of all the states planning on banning abortion once Roe v, Wade becomes overturned, not one of them offers paid family leave. Eight of those states have opted out of expanding Medicare, which covers pregnancy through post-partum. Mississippi, one of the strictest states on abortion, has the highest rate of infant mortality, child poverty, and low birth weight. (Threat to Roe draws attention to scant support for women having children, 2022). A Wallethub study anyalzed the best and worst places to have children  across “32 key measures, including cost, health care accessibility, baby- and family-friendliness, pediatricians per capita and more.” Alabama ranked last due to high costs of care, high infant mortality rate, high rates of low birth weights, and pre-term births. Alabama is one of the 22 states that plan to ban abortion once Roe v. Wade is overturned. The remaining states that ranked under the top ten worst states to have a baby were all states either planning to ban abortion or place significant restrictions. (Bloom, 2022)\n",
    "\n",
    "Research question:\n",
    "\n",
    "Are child poverty rates higher in states with strict abortion laws?\n"
   ]
  },
  {
   "cell_type": "markdown",
   "id": "a0e5afa2-0320-47da-a8d8-f10e06c716bb",
   "metadata": {},
   "source": [
    "**Methodology**\n",
    "\n",
    "Data Collection\n",
    "\n",
    "This report will be assessing the 22 states that plan to ban or significantly restrict abortion. These states are the test group. The 22 states were chosen based on whether they had the following laws in place:\n",
    "\n",
    "*Pre-roe ban*\n",
    "Law enacted before 1973 and never removed\n",
    "\n",
    "*Trigger ban*\n",
    "Law designed to be “triggered” and take effect automatically or by quick state action if Roe no longer applies.\n",
    "\n",
    "*Near-Total Ban*\n",
    "Law enacted after Roe to prohibit abortion under all or nearly all circumstances\n",
    "\n",
    "*6-week ban*\n",
    "The law prohibiting abortion after six weeks of pregnancy.\n",
    "\n",
    "*8-week ban*\n",
    "The law prohibiting abortion after eight weeks of pregnancy.\n",
    "\n",
    "*State Constitution Bars Protections*\n",
    "Constitution was amended to prohibit any protection for abortion rights\n",
    "\n",
    "![DataViz1](BreakdownofAbortionLaws.png)\n",
    "Figure 1: Break Down of Abortion Laws in the 22 States\n",
    "\n",
    "The child poverty index is chosen as a measure of whether states can provide adequate support and care for children postpartum. Child poverty was defined as “the share of children under age 18 who live in families with incomes below the federal poverty level.”(Child poverty statistics in the U.S., 2022). A family of four making under $25,926 is considered impoverished. The dataset is gathered from the Kids Count Data Center which sourced the data from the Population Reference Beaurue. This dataset ranges from 2000 to 2019. For this project, data was collected only from 2019. \n",
    "\n",
    "Statistical Analysis\n",
    "\n",
    "Child poverty data was exported to a google spreadsheet and divided between the 22 states selected that were strict on abortion and the remaining states. The average for both datasets was collected along with the standard deviation. A T-test was conducted as well to determine if there was a statistically significant difference between the two datasets. \n",
    "\n",
    "Data Visualization\n",
    "\n",
    "For data visualization, I created a box plot. The box plot was chosen to compare the spread of the data, the minimum and maximum values and visualize the differences in where the majority of the data lied. A column chart for both data sets were created to visualize the individual data for each state and compare the distribution of data. "
   ]
  },
  {
   "cell_type": "markdown",
   "id": "dd1c8084-5879-4e49-aab6-7c11bf8adbd1",
   "metadata": {},
   "source": [
    "**Results**\n",
    "\n",
    "![DataViz1](TableofData.png)\n",
    "Figure 2: Data Analysis Table\n",
    "\n",
    "The average percentage of children living in poverty within the 22 states restricting abortion was 18.05%. This was 3.59% higher than the control group average, which was 14.46 percent.  Both groups have a high standard deviation from the mean. The p-value is 0.006 which indicates that there is a statistically significant difference between the two datasets. \n",
    "\n",
    "![DataViz1](BoxPlot.png)\n",
    "Figure 3: Boxplot of Child Poverty in 2019 Between States Strict on Abortion and the remaining states. \n",
    "\n",
    "![DataViz1](StrictAbortionColumn.png)\n",
    "Figure 4: Column Chart of States Strict on Abortion and Percentage of Children in 2019\n",
    "\n",
    "![DataViz1](RemainingStatesColumn.png)\n",
    "Figure 5: Column Chart of States Strict on Abortion and Percentage of Children in Poverty 2019\n",
    "\n",
    "\n"
   ]
  },
  {
   "cell_type": "markdown",
   "id": "95a4f141-7c78-4cff-b986-00daef82d4d1",
   "metadata": {},
   "source": [
    "**Discussion**\n",
    "\n",
    "My research question asked whether states with strict abortion laws had higher child poverty rates in comparison to those without. The data shows that the average child poverty index in states that are strict in abortion is higher than states that are not. There was also a statisically signicant difference between the two datasets, meaning that these differences are highly unlikely to occur by chance. This data is visualized in the box plot. For states strict on abortion, the majority of the data lies between the values of 14.25% and 20%. For the remaining states, the majority of the data lies between the values of 12% and 16%. The column chart shows the disproportionate distributions of percentages between both datasets. In the states strict on abortion column chart, we can see that five states cross the 20% mark, whereas only one state crosses this mark for the remaining states. It is also shown in the column chart that the majority of states strict on abortion pass the 16% mark (15 states), whereas only 6 states cross the 16% mark for the remaining states dataset. The results show that there is a higher level of child poverty within states that are stricter with abortion. \n",
    "\n",
    "*Limitations*\n",
    "\n",
    "First and foremost, I excluded Puerto Rico from my dataset which could’ve skewed the results. Puerto Rico’s datapoint would’ve been an extreme outlier (58%) and would’ve heavily skewed the data. Secondly, my data was from 2019. It would’ve been more accurate to gather data from 2021, since child poverty rates may have changed in the past 3 years (especially after COVID-19). Lastly, my dataset was quite small. The results would’ve been more accurate if I had used the data from 2000 to 2019. \n",
    "\n",
    "*Implications*\n",
    "\n",
    "The findings in this research amongst many others that focus on measures such as access to health care and policies supporting working and low-income familiescan be used to dispute the general arguement surrouding pro-life supporters, which is to protect children. This evidence can also be used by reproductive rights activists and other social justice figures to push policymakers to focus their efforts on tackling existing issues surrounding childcare and provide better support for children and families post-partum before they try to bring more children into existence. \n",
    "\n",
    "\n",
    "*Future Directions*\n",
    "\n",
    "For future studies, it would be insightful to look into the state’s different levels of strictness on abortion and how their child poverty rates differ. For instance, looking at the difference between states that are planning to ban abortion and states that are implementing an 8 week ban. Furthermore, I would conduct an analysis on the different measures of postpartum care such as healthcare access, family friendly policies, low birth weight, infant mortality, and pre-term births and see how these measures compare between states strict on abortion and remaining states.\n"
   ]
  },
  {
   "cell_type": "markdown",
   "id": "b2378b6c-37ec-46a4-abfd-eca65dbb8782",
   "metadata": {},
   "source": [
    "**Conclusion**\n",
    "\n",
    "The debate surrounding the legality of abortion is a controversial topic. Pro-life supporter’s justify taking away women’s reproductive rights in order to protect an unborn child’s life. However, many critics argue that they place more emphasis on protecting unborn children over children that are already alive. One measure that determines a child’s quality of life is poverty. Child poverty can elevate a child’s risk of developing psychological and physical issues, as well as limit their academic outcomes, opportunities to succeed, and undercutting their capacity to learn. States that have implemented laws that restrict access to abortion or completely ban it evidently have higher instances of child poverty in comparison to the remainder of the states. Thus, shedding some light into the hypocrisy of protecting unborn children while neglecting the ones that are alive today. \n"
   ]
  },
  {
   "cell_type": "markdown",
   "id": "1691f37c-fde1-4490-aa0f-5487ced12533",
   "metadata": {},
   "source": [
    "**References**\n",
    "\n",
    "2022.[online] Available at: <https://www.cdc.gov/nchs/pressroom/sosmap/infant_mortality_rates/infant_mortality.htm> [Accessed 16 May 2022].\n",
    "\n",
    "Bloom, L., 2022. Study Reveals: The Best States To Have A Baby In America (And The Worst). [online] Forbes. Available at: <https://www.forbes.com/sites/laurabegleybloom/2020/08/27/best-worst-states-have-baby/?sh=3aedf6f1979b> [Accessed 16 May 2022].\n",
    "\n",
    "Cbsnews.com. 2022. Threat to Roe draws attention to scant support for women having children. [online] Available at: <https://www.cbsnews.com/news/roe-v-wade-abortion-support-for-pregnant-women/> [Accessed 16 May 2022].\n",
    "\n",
    "Datacenter.kidscount.org. 2022. Child poverty statistics in the U.S.. [online] Available at: <https://datacenter.kidscount.org/data/tables/43-children-in-poverty-100-percent-poverty#detailed/2/2-53/false/1729,37,871,870,573,869,36,868,867,133/any/321,322> [Accessed 16 May 2022].\n",
    "\n",
    "KFF. 2022. Medicaid Postpartum Coverage Extension Tracker. [online] Available at: <https://www.kff.org/medicaid/issue-brief/medicaid-postpartum-coverage-extension-tracker/> [Accessed 16 May 2022].\n"
   ]
  },
  {
   "cell_type": "code",
   "execution_count": null,
   "id": "1b74be56-f377-4fcf-a801-bb2036695bcf",
   "metadata": {},
   "outputs": [],
   "source": []
  }
 ],
 "metadata": {
  "kernelspec": {
   "display_name": "Python 3 (ipykernel)",
   "language": "python",
   "name": "python3"
  },
  "language_info": {
   "codemirror_mode": {
    "name": "ipython",
    "version": 3
   },
   "file_extension": ".py",
   "mimetype": "text/x-python",
   "name": "python",
   "nbconvert_exporter": "python",
   "pygments_lexer": "ipython3",
   "version": "3.9.7"
  }
 },
 "nbformat": 4,
 "nbformat_minor": 5
}
